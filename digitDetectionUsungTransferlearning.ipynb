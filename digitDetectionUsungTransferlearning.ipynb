{
  "nbformat": 4,
  "nbformat_minor": 0,
  "metadata": {
    "colab": {
      "provenance": [],
      "authorship_tag": "ABX9TyOwJqOKPpfBanzmxWStwmf7",
      "include_colab_link": true
    },
    "kernelspec": {
      "name": "python3",
      "display_name": "Python 3"
    },
    "language_info": {
      "name": "python"
    },
    "accelerator": "GPU",
    "gpuClass": "standard"
  },
  "cells": [
    {
      "cell_type": "markdown",
      "metadata": {
        "id": "view-in-github",
        "colab_type": "text"
      },
      "source": [
        "<a href=\"https://colab.research.google.com/github/MollaMohammadIbrahim/MachineLearning/blob/main/digitDetectionUsungTransferlearning.ipynb\" target=\"_parent\"><img src=\"https://colab.research.google.com/assets/colab-badge.svg\" alt=\"Open In Colab\"/></a>"
      ]
    },
    {
      "cell_type": "markdown",
      "source": [
        "# importing libraries"
      ],
      "metadata": {
        "id": "1KjyCETJasUR"
      }
    },
    {
      "cell_type": "code",
      "execution_count": null,
      "metadata": {
        "id": "2fWwy3quZYDl"
      },
      "outputs": [],
      "source": [
        "import tensorflow as tf\n",
        "from tensorflow.keras.datasets import mnist\n",
        "from tensorflow.keras.models import Sequential\n",
        "from tensorflow.keras.layers import Dense\n",
        "from tensorflow.keras.applications import VGG16\n",
        "from tensorflow.keras.utils import to_categorical\n",
        "import numpy as np"
      ]
    },
    {
      "cell_type": "markdown",
      "source": [
        "# Load the MNIST dataset"
      ],
      "metadata": {
        "id": "uFi64-LIaxXz"
      }
    },
    {
      "cell_type": "code",
      "source": [
        "\n",
        "(x_train, y_train), (x_test, y_test) = mnist.load_data()\n",
        "print(x_train.shape)"
      ],
      "metadata": {
        "id": "ES5_LB_sa153",
        "colab": {
          "base_uri": "https://localhost:8080/"
        },
        "outputId": "6d9fffd9-1d5a-4c6e-9bd6-e88665517c93"
      },
      "execution_count": null,
      "outputs": [
        {
          "output_type": "stream",
          "name": "stdout",
          "text": [
            "(60000, 28, 28)\n"
          ]
        }
      ]
    },
    {
      "cell_type": "markdown",
      "source": [
        "# Preprocess the data"
      ],
      "metadata": {
        "id": "JHhdDlSRa-3V"
      }
    },
    {
      "cell_type": "code",
      "source": [
        "x_train = np.pad(x_train, ((0,0),(10,10),(10,10)))\n",
        "print(x_train.shape)\n",
        "x_test = np.pad(x_test, ((0,0),(10,10),(10,10)))\n",
        "x_train = np.repeat(x_train[..., np.newaxis], 3, -1)\n",
        "x_test = np.repeat(x_test[..., np.newaxis], 3, -1)\n",
        "x_train = x_train.astype('float32') / 255\n",
        "x_test = x_test.astype('float32') / 255\n",
        "y_train = to_categorical(y_train)\n",
        "y_test = to_categorical(y_test)\n",
        "#used to repeat the 1 channel of the input images to create 3 channels,so that the images can be used\n",
        "#with pre-trained models like VGG16 that are trained on RGB images."
      ],
      "metadata": {
        "id": "CsT2BbZwa53O",
        "colab": {
          "base_uri": "https://localhost:8080/"
        },
        "outputId": "78be1b14-b03e-4750-b96d-bca0d1764a94"
      },
      "execution_count": null,
      "outputs": [
        {
          "output_type": "stream",
          "name": "stdout",
          "text": [
            "(60000, 48, 48)\n"
          ]
        }
      ]
    },
    {
      "cell_type": "markdown",
      "source": [
        "# Define the model"
      ],
      "metadata": {
        "id": "zCQlww4hbCdG"
      }
    },
    {
      "cell_type": "code",
      "source": [
        "base_model = VGG16(include_top=False, pooling='avg', weights='imagenet', input_shape=(48, 48, 3))\n",
        "for layer in base_model.layers:\n",
        "    layer.trainable = False\n",
        "model = Sequential([\n",
        "    base_model,\n",
        "    Dense(512, activation='relu'),\n",
        "    Dense(10, activation='softmax')\n",
        "])\n",
        "model.summary()"
      ],
      "metadata": {
        "id": "OUnl_Hs4bIt3",
        "colab": {
          "base_uri": "https://localhost:8080/"
        },
        "outputId": "79a0a854-320b-4c70-cab1-93b922eb5ac5"
      },
      "execution_count": null,
      "outputs": [
        {
          "output_type": "stream",
          "name": "stdout",
          "text": [
            "Model: \"sequential\"\n",
            "_________________________________________________________________\n",
            " Layer (type)                Output Shape              Param #   \n",
            "=================================================================\n",
            " vgg16 (Functional)          (None, 512)               14714688  \n",
            "                                                                 \n",
            " dense (Dense)               (None, 512)               262656    \n",
            "                                                                 \n",
            " dense_1 (Dense)             (None, 10)                5130      \n",
            "                                                                 \n",
            "=================================================================\n",
            "Total params: 14,982,474\n",
            "Trainable params: 267,786\n",
            "Non-trainable params: 14,714,688\n",
            "_________________________________________________________________\n"
          ]
        }
      ]
    },
    {
      "cell_type": "markdown",
      "source": [
        "# Compile the model"
      ],
      "metadata": {
        "id": "W7Gp64xQbMXl"
      }
    },
    {
      "cell_type": "code",
      "source": [
        "model.compile(optimizer='adam', loss='categorical_crossentropy', metrics=['accuracy'])\n"
      ],
      "metadata": {
        "id": "FTTBYqnZbPfa"
      },
      "execution_count": null,
      "outputs": []
    },
    {
      "cell_type": "markdown",
      "source": [
        "# Train the model"
      ],
      "metadata": {
        "id": "hLsTKy8nbT2L"
      }
    },
    {
      "cell_type": "code",
      "source": [
        "model.fit(x_train, y_train, batch_size=128, epochs=10, validation_data=(x_test, y_test))\n"
      ],
      "metadata": {
        "colab": {
          "base_uri": "https://localhost:8080/"
        },
        "id": "6QM6R-_abSmm",
        "outputId": "11761273-aa72-4230-9c6e-7005d8c119d6"
      },
      "execution_count": null,
      "outputs": [
        {
          "output_type": "stream",
          "name": "stdout",
          "text": [
            "Epoch 1/10\n",
            "469/469 [==============================] - 23s 40ms/step - loss: 0.5541 - accuracy: 0.8408 - val_loss: 0.2364 - val_accuracy: 0.9329\n",
            "Epoch 2/10\n",
            "469/469 [==============================] - 17s 37ms/step - loss: 0.2123 - accuracy: 0.9369 - val_loss: 0.1598 - val_accuracy: 0.9551\n",
            "Epoch 3/10\n",
            "469/469 [==============================] - 18s 38ms/step - loss: 0.1632 - accuracy: 0.9503 - val_loss: 0.1380 - val_accuracy: 0.9582\n",
            "Epoch 4/10\n",
            "469/469 [==============================] - 17s 37ms/step - loss: 0.1417 - accuracy: 0.9565 - val_loss: 0.1201 - val_accuracy: 0.9631\n",
            "Epoch 5/10\n",
            "469/469 [==============================] - 17s 36ms/step - loss: 0.1287 - accuracy: 0.9597 - val_loss: 0.1105 - val_accuracy: 0.9668\n",
            "Epoch 6/10\n",
            "469/469 [==============================] - 17s 37ms/step - loss: 0.1176 - accuracy: 0.9633 - val_loss: 0.1071 - val_accuracy: 0.9670\n",
            "Epoch 7/10\n",
            "469/469 [==============================] - 17s 37ms/step - loss: 0.1123 - accuracy: 0.9644 - val_loss: 0.1091 - val_accuracy: 0.9669\n",
            "Epoch 8/10\n",
            "469/469 [==============================] - 18s 37ms/step - loss: 0.1044 - accuracy: 0.9676 - val_loss: 0.0987 - val_accuracy: 0.9694\n",
            "Epoch 9/10\n",
            "469/469 [==============================] - 17s 37ms/step - loss: 0.0989 - accuracy: 0.9691 - val_loss: 0.1036 - val_accuracy: 0.9666\n",
            "Epoch 10/10\n",
            "469/469 [==============================] - 17s 37ms/step - loss: 0.0995 - accuracy: 0.9681 - val_loss: 0.1039 - val_accuracy: 0.9664\n"
          ]
        },
        {
          "output_type": "execute_result",
          "data": {
            "text/plain": [
              "<keras.callbacks.History at 0x7ff90023e250>"
            ]
          },
          "metadata": {},
          "execution_count": 7
        }
      ]
    },
    {
      "cell_type": "markdown",
      "source": [
        "# Evaluate the model on the test set"
      ],
      "metadata": {
        "id": "Wh-ttp8Rbmcf"
      }
    },
    {
      "cell_type": "code",
      "source": [
        "\n",
        "loss, accuracy = model.evaluate(x_test, y_test)\n",
        "print('Test accuracy:', accuracy)\n"
      ],
      "metadata": {
        "colab": {
          "base_uri": "https://localhost:8080/"
        },
        "id": "DyPYav6gblH9",
        "outputId": "184976ab-fe6f-4cfd-f4c6-d97a88720b10"
      },
      "execution_count": null,
      "outputs": [
        {
          "output_type": "stream",
          "name": "stdout",
          "text": [
            "313/313 [==============================] - 4s 12ms/step - loss: 0.1039 - accuracy: 0.9664\n",
            "Test accuracy: 0.9664000272750854\n"
          ]
        }
      ]
    }
  ]
}