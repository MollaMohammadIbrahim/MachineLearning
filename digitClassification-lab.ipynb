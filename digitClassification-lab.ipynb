{
  "nbformat": 4,
  "nbformat_minor": 0,
  "metadata": {
    "colab": {
      "provenance": [],
      "toc_visible": true,
      "authorship_tag": "ABX9TyNxMOmx2ElDaZMb7WTpJLFc",
      "include_colab_link": true
    },
    "kernelspec": {
      "name": "python3",
      "display_name": "Python 3"
    },
    "language_info": {
      "name": "python"
    },
    "accelerator": "GPU",
    "gpuClass": "standard"
  },
  "cells": [
    {
      "cell_type": "markdown",
      "metadata": {
        "id": "view-in-github",
        "colab_type": "text"
      },
      "source": [
        "<a href=\"https://colab.research.google.com/github/MollaMohammadIbrahim/MachineLearning/blob/main/digitClassification-lab.ipynb\" target=\"_parent\"><img src=\"https://colab.research.google.com/assets/colab-badge.svg\" alt=\"Open In Colab\"/></a>"
      ]
    },
    {
      "cell_type": "markdown",
      "source": [
        "#**Importing libraries and mnist data**"
      ],
      "metadata": {
        "id": "7_3N6CG4-brN"
      }
    },
    {
      "cell_type": "code",
      "execution_count": null,
      "metadata": {
        "colab": {
          "base_uri": "https://localhost:8080/"
        },
        "id": "qP6oPJFO674_",
        "outputId": "63e4be09-d237-46d7-8776-95b1ea89b417"
      },
      "outputs": [
        {
          "output_type": "stream",
          "name": "stdout",
          "text": [
            "Downloading data from https://storage.googleapis.com/tensorflow/tf-keras-datasets/mnist.npz\n",
            "11490434/11490434 [==============================] - 2s 0us/step\n"
          ]
        }
      ],
      "source": [
        "import tensorflow as tf\n",
        "from tensorflow import keras\n",
        "from tensorflow.keras.datasets import mnist\n",
        "from tensorflow.keras.preprocessing.image import ImageDataGenerator\n",
        "import numpy as np\n",
        "import matplotlib.pyplot as plt\n",
        "from tensorflow.keras.models import Sequential\n",
        "from tensorflow.keras.layers import Dense, Flatten\n",
        "\n",
        "(x_train, y_train), (x_test, y_test) = mnist.load_data()\n",
        "\n",
        "x_train = x_train.reshape((60000, 28, 28, 1)) / 255.0\n",
        "x_test = x_test.reshape((10000, 28, 28, 1)) / 255.0\n",
        "\n",
        "y_train = keras.utils.to_categorical(y_train, 10)\n",
        "y_test = keras.utils.to_categorical(y_test, 10)\n"
      ]
    },
    {
      "cell_type": "code",
      "source": [
        "print(\"Number of training images:\", x_train.shape[0])\n",
        "print(\"Number of test images:\", x_test.shape[0])\n"
      ],
      "metadata": {
        "colab": {
          "base_uri": "https://localhost:8080/"
        },
        "id": "eZ0tYVxo8YrG",
        "outputId": "7d6a272e-0f4d-402e-b729-15d231f8aea1"
      },
      "execution_count": null,
      "outputs": [
        {
          "output_type": "stream",
          "name": "stdout",
          "text": [
            "Number of training images: 60000\n",
            "Number of test images: 10000\n"
          ]
        }
      ]
    },
    {
      "cell_type": "code",
      "source": [],
      "metadata": {
        "id": "OaRmk3dO9gjP"
      },
      "execution_count": null,
      "outputs": []
    },
    {
      "cell_type": "markdown",
      "source": [
        "#**ploting some data from dataset**"
      ],
      "metadata": {
        "id": "WDTfJGz73G8D"
      }
    },
    {
      "cell_type": "code",
      "source": [
        "plt.figure(figsize=(10,10))\n",
        "for i in range(9):\n",
        "    plt.subplot(1,9,i+1)\n",
        "    plt.imshow(x_train[i].squeeze(), cmap='gray')\n",
        "    plt.axis('off')\n",
        "    plt.title(str(y_train[i]))\n",
        "plt.show()\n"
      ],
      "metadata": {
        "colab": {
          "base_uri": "https://localhost:8080/",
          "height": 100
        },
        "id": "zdIIb3XK8efE",
        "outputId": "6fbfb6fa-3e42-4103-9fa8-c87b23127d0a"
      },
      "execution_count": null,
      "outputs": [
        {
          "output_type": "display_data",
          "data": {
            "text/plain": [
              "<Figure size 720x720 with 9 Axes>"
            ],
            "image/png": "[encoded data removed]"
          },
          "metadata": {
            "needs_background": "light"
          }
        }
      ]
    },
    {
      "cell_type": "code",
      "source": [],
      "metadata": {
        "id": "93FMu84HHPCl"
      },
      "execution_count": null,
      "outputs": []
    },
    {
      "cell_type": "markdown",
      "source": [
        "#**Augmentation**"
      ],
      "metadata": {
        "id": "9M9ZPq_kHNcz"
      }
    },
    {
      "cell_type": "code",
      "source": [
        "datagen = ImageDataGenerator(\n",
        "    rotation_range=10,\n",
        "    width_shift_range=0.1,\n",
        "    height_shift_range=0.1,\n",
        "    shear_range=0.1,\n",
        "    zoom_range=0.1,\n",
        "    fill_mode='nearest'\n",
        ")"
      ],
      "metadata": {
        "id": "f2sxu11-IeUy"
      },
      "execution_count": null,
      "outputs": []
    },
    {
      "cell_type": "code",
      "source": [
        "\n",
        "\n",
        "augmented_images = []\n",
        "augmented_labels = []\n",
        "\n",
        "for x_batch, y_batch in datagen.flow(x_train, y_train, batch_size=60000):\n",
        "    augmented_images.append(x_batch)\n",
        "    augmented_labels.append(y_batch)\n",
        "    break\n",
        "\n",
        "augmented_images = np.concatenate(augmented_images)\n",
        "augmented_labels = np.concatenate(augmented_labels)\n",
        "\n",
        "x_train_augmented = np.concatenate([x_train, augmented_images])\n",
        "y_train_augmented = np.concatenate([y_train, augmented_labels])\n"
      ],
      "metadata": {
        "id": "h6ZVU1PB86iV"
      },
      "execution_count": null,
      "outputs": []
    },
    {
      "cell_type": "code",
      "source": [
        "print(\"Number of training images after augmentation:\", x_train_augmented.shape[0])\n",
        "print(\"Number of training images before augmentation:\", x_train.shape[0])\n"
      ],
      "metadata": {
        "colab": {
          "base_uri": "https://localhost:8080/"
        },
        "id": "CqAW-VXI8mr6",
        "outputId": "b556f74d-7306-4d47-c873-a16af6669ae5"
      },
      "execution_count": null,
      "outputs": [
        {
          "output_type": "stream",
          "name": "stdout",
          "text": [
            "Number of training images after augmentation: 120000\n",
            "Number of training images before augmentation: 60000\n"
          ]
        }
      ]
    },
    {
      "cell_type": "code",
      "source": [
        "idx = np.random.randint(0, len(x_train_augmented), size=9)\n",
        "images = x_train_augmented[idx]\n",
        "labels = y_train_augmented[idx]\n",
        "\n",
        "plt.figure(figsize=(10,10))\n",
        "for i in range(9):\n",
        "    plt.subplot(3,3,i+1)\n",
        "    plt.imshow(images[i].squeeze(), cmap='gray')\n",
        "    # plt.axis('off')\n",
        "    plt.title(str(np.argmax(labels[i])))\n",
        "plt.show()\n"
      ],
      "metadata": {
        "colab": {
          "base_uri": "https://localhost:8080/",
          "height": 607
        },
        "id": "XspMi9c8-11y",
        "outputId": "9ee51763-1f2f-4fa3-d777-85f7afb46fc6"
      },
      "execution_count": null,
      "outputs": [
        {
          "output_type": "display_data",
          "data": {
            "text/plain": [
              "<Figure size 720x720 with 9 Axes>"
            ],
            "image/png": "[encoded data removed]"
          },
          "metadata": {
            "needs_background": "light"
          }
        }
      ]
    },
    {
      "cell_type": "markdown",
      "source": [
        "#**Model Desighn**#"
      ],
      "metadata": {
        "id": "nXqJDuwgGUPY"
      }
    },
    {
      "cell_type": "code",
      "source": [
        "model = Sequential([\n",
        "    Flatten(input_shape=(28, 28, 1)),\n",
        "    Dense(128, activation='relu'),\n",
        "    Dense(64, activation='relu'),\n",
        "    Dense(32, activation='relu'),\n",
        "    Dense(10, activation='softmax')\n",
        "])\n"
      ],
      "metadata": {
        "id": "fADYBInq-9hZ"
      },
      "execution_count": null,
      "outputs": []
    },
    {
      "cell_type": "code",
      "source": [
        "model.compile(optimizer='adam', loss='categorical_crossentropy', metrics=['accuracy'])"
      ],
      "metadata": {
        "id": "GNax1sEE_2ue"
      },
      "execution_count": null,
      "outputs": []
    },
    {
      "cell_type": "code",
      "source": [
        "model.fit(x_train_augmented,y_train_augmented, epochs=50, batch_size=128)\n"
      ],
      "metadata": {
        "colab": {
          "base_uri": "https://localhost:8080/"
        },
        "id": "fv6NZSCm_Vdj",
        "outputId": "39e445d4-c9a0-4f69-b74f-cd614089a412"
      },
      "execution_count": null,
      "outputs": [
        {
          "output_type": "stream",
          "name": "stdout",
          "text": [
            "Epoch 1/50\n",
            "938/938 [==============================] - 5s 4ms/step - loss: 0.3934 - accuracy: 0.8816\n",
            "Epoch 2/50\n",
            "938/938 [==============================] - 3s 3ms/step - loss: 0.1546 - accuracy: 0.9532\n",
            "Epoch 3/50\n",
            "938/938 [==============================] - 3s 3ms/step - loss: 0.1158 - accuracy: 0.9645\n",
            "Epoch 4/50\n",
            "938/938 [==============================] - 4s 4ms/step - loss: 0.0913 - accuracy: 0.9721\n",
            "Epoch 5/50\n",
            "938/938 [==============================] - 3s 3ms/step - loss: 0.0767 - accuracy: 0.9762\n",
            "Epoch 6/50\n",
            "938/938 [==============================] - 3s 3ms/step - loss: 0.0661 - accuracy: 0.9790\n",
            "Epoch 7/50\n",
            "938/938 [==============================] - 3s 3ms/step - loss: 0.0572 - accuracy: 0.9816\n",
            "Epoch 8/50\n",
            "938/938 [==============================] - 4s 4ms/step - loss: 0.0499 - accuracy: 0.9837\n",
            "Epoch 9/50\n",
            "938/938 [==============================] - 3s 4ms/step - loss: 0.0449 - accuracy: 0.9851\n",
            "Epoch 10/50\n",
            "938/938 [==============================] - 3s 3ms/step - loss: 0.0386 - accuracy: 0.9874\n",
            "Epoch 11/50\n",
            "938/938 [==============================] - 4s 4ms/step - loss: 0.0353 - accuracy: 0.9883\n",
            "Epoch 12/50\n",
            "938/938 [==============================] - 3s 4ms/step - loss: 0.0315 - accuracy: 0.9894\n",
            "Epoch 13/50\n",
            "938/938 [==============================] - 4s 4ms/step - loss: 0.0292 - accuracy: 0.9904\n",
            "Epoch 14/50\n",
            "938/938 [==============================] - 4s 4ms/step - loss: 0.0264 - accuracy: 0.9911\n",
            "Epoch 15/50\n",
            "938/938 [==============================] - 4s 4ms/step - loss: 0.0253 - accuracy: 0.9914\n",
            "Epoch 16/50\n",
            "938/938 [==============================] - 5s 5ms/step - loss: 0.0216 - accuracy: 0.9927\n",
            "Epoch 17/50\n",
            "938/938 [==============================] - 3s 4ms/step - loss: 0.0213 - accuracy: 0.9927\n",
            "Epoch 18/50\n",
            "938/938 [==============================] - 6s 7ms/step - loss: 0.0199 - accuracy: 0.9933\n",
            "Epoch 19/50\n",
            "938/938 [==============================] - 3s 4ms/step - loss: 0.0180 - accuracy: 0.9936\n",
            "Epoch 20/50\n",
            "938/938 [==============================] - 3s 4ms/step - loss: 0.0202 - accuracy: 0.9930\n",
            "Epoch 21/50\n",
            "938/938 [==============================] - 5s 5ms/step - loss: 0.0176 - accuracy: 0.9938\n",
            "Epoch 22/50\n",
            "938/938 [==============================] - 3s 4ms/step - loss: 0.0160 - accuracy: 0.9944\n",
            "Epoch 23/50\n",
            "938/938 [==============================] - 3s 4ms/step - loss: 0.0156 - accuracy: 0.9948\n",
            "Epoch 24/50\n",
            "938/938 [==============================] - 5s 5ms/step - loss: 0.0164 - accuracy: 0.9946\n",
            "Epoch 25/50\n",
            "938/938 [==============================] - 3s 3ms/step - loss: 0.0137 - accuracy: 0.9952\n",
            "Epoch 26/50\n",
            "938/938 [==============================] - 3s 3ms/step - loss: 0.0118 - accuracy: 0.9962\n",
            "Epoch 27/50\n",
            "938/938 [==============================] - 3s 4ms/step - loss: 0.0155 - accuracy: 0.9947\n",
            "Epoch 28/50\n",
            "938/938 [==============================] - 4s 4ms/step - loss: 0.0144 - accuracy: 0.9953\n",
            "Epoch 29/50\n",
            "938/938 [==============================] - 4s 4ms/step - loss: 0.0111 - accuracy: 0.9962\n",
            "Epoch 30/50\n",
            "938/938 [==============================] - 3s 3ms/step - loss: 0.0126 - accuracy: 0.9957\n",
            "Epoch 31/50\n",
            "938/938 [==============================] - 4s 4ms/step - loss: 0.0116 - accuracy: 0.9960\n",
            "Epoch 32/50\n",
            "938/938 [==============================] - 3s 3ms/step - loss: 0.0129 - accuracy: 0.9956\n",
            "Epoch 33/50\n",
            "938/938 [==============================] - 3s 4ms/step - loss: 0.0122 - accuracy: 0.9961\n",
            "Epoch 34/50\n",
            "938/938 [==============================] - 3s 4ms/step - loss: 0.0096 - accuracy: 0.9968\n",
            "Epoch 35/50\n",
            "938/938 [==============================] - 4s 4ms/step - loss: 0.0133 - accuracy: 0.9957\n",
            "Epoch 36/50\n",
            "938/938 [==============================] - 4s 4ms/step - loss: 0.0127 - accuracy: 0.9956\n",
            "Epoch 37/50\n",
            "938/938 [==============================] - 3s 3ms/step - loss: 0.0096 - accuracy: 0.9969\n",
            "Epoch 38/50\n",
            "938/938 [==============================] - 4s 4ms/step - loss: 0.0098 - accuracy: 0.9967\n",
            "Epoch 39/50\n",
            "938/938 [==============================] - 3s 3ms/step - loss: 0.0104 - accuracy: 0.9966\n",
            "Epoch 40/50\n",
            "938/938 [==============================] - 3s 3ms/step - loss: 0.0099 - accuracy: 0.9967\n",
            "Epoch 41/50\n",
            "938/938 [==============================] - 3s 3ms/step - loss: 0.0109 - accuracy: 0.9964\n",
            "Epoch 42/50\n",
            "938/938 [==============================] - 4s 4ms/step - loss: 0.0090 - accuracy: 0.9969\n",
            "Epoch 43/50\n",
            "938/938 [==============================] - 3s 3ms/step - loss: 0.0109 - accuracy: 0.9965\n",
            "Epoch 44/50\n",
            "938/938 [==============================] - 3s 3ms/step - loss: 0.0098 - accuracy: 0.9967\n",
            "Epoch 45/50\n",
            "938/938 [==============================] - 4s 4ms/step - loss: 0.0088 - accuracy: 0.9972\n",
            "Epoch 46/50\n",
            "938/938 [==============================] - 4s 4ms/step - loss: 0.0086 - accuracy: 0.9971\n",
            "Epoch 47/50\n",
            "938/938 [==============================] - 3s 3ms/step - loss: 0.0110 - accuracy: 0.9965\n",
            "Epoch 48/50\n",
            "938/938 [==============================] - 3s 3ms/step - loss: 0.0100 - accuracy: 0.9966\n",
            "Epoch 49/50\n",
            "938/938 [==============================] - 4s 4ms/step - loss: 0.0094 - accuracy: 0.9970\n",
            "Epoch 50/50\n",
            "938/938 [==============================] - 3s 3ms/step - loss: 0.0072 - accuracy: 0.9975\n"
          ]
        },
        {
          "output_type": "execute_result",
          "data": {
            "text/plain": [
              "<keras.callbacks.History at 0x7f4f15580fd0>"
            ]
          },
          "metadata": {},
          "execution_count": 49
        }
      ]
    },
    {
      "cell_type": "markdown",
      "source": [
        "#**Model Evaluation**"
      ],
      "metadata": {
        "id": "GjbaJGPVGwYY"
      }
    },
    {
      "cell_type": "markdown",
      "source": [
        "##**Model Evaluation with augmented test data set**\n",
        "\n",
        "\n",
        "\n"
      ],
      "metadata": {
        "id": "JGVC-mpZG7By"
      }
    },
    {
      "cell_type": "code",
      "source": [
        "test_datagen = ImageDataGenerator(\n",
        "    rotation_range=10,\n",
        "    width_shift_range=0.1,\n",
        "    height_shift_range=0.1,\n",
        "    shear_range=0.1,\n",
        "    zoom_range=0.1,\n",
        "    fill_mode='nearest'\n",
        ")"
      ],
      "metadata": {
        "id": "N4NyIGAKI-Hz"
      },
      "execution_count": null,
      "outputs": []
    },
    {
      "cell_type": "code",
      "source": [
        "\n",
        "test_datagen.fit(x_test)\n",
        "\n",
        "test_generator = test_datagen.flow(x_test, y_test, batch_size=32)\n",
        "\n",
        "test_loss, test_acc = model.evaluate(test_generator)\n",
        "print('Test accuracy:', test_acc)\n"
      ],
      "metadata": {
        "colab": {
          "base_uri": "https://localhost:8080/"
        },
        "id": "c2N-tocwBlrb",
        "outputId": "14e94ed8-31a6-45d4-9908-bc19aa147977"
      },
      "execution_count": null,
      "outputs": [
        {
          "output_type": "stream",
          "name": "stdout",
          "text": [
            "313/313 [==============================] - 4s 14ms/step - loss: 0.2562 - accuracy: 0.9629\n",
            "Test accuracy: 0.9628999829292297\n"
          ]
        }
      ]
    },
    {
      "cell_type": "code",
      "source": [
        "model.fit(x_train,y_train, epochs=50, batch_size=128)\n"
      ],
      "metadata": {
        "id": "20FJu6h6Lkui"
      },
      "execution_count": null,
      "outputs": []
    },
    {
      "cell_type": "markdown",
      "source": [
        "##**Model evaluation without augmented training dataset**"
      ],
      "metadata": {
        "id": "Xspyf41TM7mD"
      }
    },
    {
      "cell_type": "code",
      "source": [
        "test_loss, test_acc = model.evaluate(test_generator)\n",
        "print('Test accuracy:', test_acc)\n"
      ],
      "metadata": {
        "colab": {
          "base_uri": "https://localhost:8080/"
        },
        "id": "Co4KLnYfLswI",
        "outputId": "b43ded67-d093-42cf-f01d-c99262226a14"
      },
      "execution_count": null,
      "outputs": [
        {
          "output_type": "stream",
          "name": "stdout",
          "text": [
            "313/313 [==============================] - 5s 15ms/step - loss: 0.4375 - accuracy: 0.9437\n",
            "Test accuracy: 0.9437000155448914\n"
          ]
        }
      ]
    }
  ]
}