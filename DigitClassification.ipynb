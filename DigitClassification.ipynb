{
  "nbformat": 4,
  "nbformat_minor": 0,
  "metadata": {
    "colab": {
      "provenance": [],
      "authorship_tag": "ABX9TyNSIXA4oE3PcmGPdVAJhSCh",
      "include_colab_link": true
    },
    "kernelspec": {
      "name": "python3",
      "display_name": "Python 3"
    },
    "language_info": {
      "name": "python"
    },
    "accelerator": "GPU",
    "gpuClass": "standard"
  },
  "cells": [
    {
      "cell_type": "markdown",
      "metadata": {
        "id": "view-in-github",
        "colab_type": "text"
      },
      "source": [
        "<a href=\"https://colab.research.google.com/github/MollaMohammadIbrahim/MachineLearning/blob/main/DigitClassification.ipynb\" target=\"_parent\"><img src=\"https://colab.research.google.com/assets/colab-badge.svg\" alt=\"Open In Colab\"/></a>"
      ]
    },
    {
      "cell_type": "code",
      "execution_count": null,
      "metadata": {
        "id": "sg7v8msXBi9i"
      },
      "outputs": [],
      "source": [
        "import tensorflow as tf\n",
        "from tensorflow import keras\n",
        "from tensorflow.keras.datasets import mnist\n",
        "from tensorflow.keras.preprocessing.image import ImageDataGenerator\n",
        "\n",
        "(x_train, y_train), (x_test, y_test) = mnist.load_data()\n",
        "x_train = x_train.reshape((60000, 28, 28, 1)) / 255.0\n",
        "x_test = x_test.reshape((10000, 28, 28, 1)) / 255.0\n",
        "\n",
        "y_train = keras.utils.to_categorical(y_train, 10)\n",
        "y_test = keras.utils.to_categorical(y_test, 10)\n",
        "\n",
        "\n"
      ]
    },
    {
      "cell_type": "code",
      "source": [
        "datagen = ImageDataGenerator(\n",
        "    rotation_range=10,\n",
        "    width_shift_range=0.1,\n",
        "    height_shift_range=0.1,\n",
        "    shear_range=0.1,\n",
        "    zoom_range=0.1,\n",
        "    fill_mode='nearest'\n",
        ")\n"
      ],
      "metadata": {
        "id": "hquxDkRyCIiv"
      },
      "execution_count": null,
      "outputs": []
    },
    {
      "cell_type": "code",
      "source": [
        "model = keras.Sequential([\n",
        "    keras.layers.Conv2D(32, (3,3), activation='relu', input_shape=(28, 28, 1)),\n",
        "    keras.layers.MaxPooling2D((2,2)),\n",
        "    keras.layers.Conv2D(64, (3,3), activation='relu'),\n",
        "    keras.layers.MaxPooling2D((2,2)),\n",
        "    keras.layers.Conv2D(128, (3,3), activation='relu'),\n",
        "    keras.layers.Flatten(),\n",
        "    keras.layers.Dense(128, activation='relu'),\n",
        "    keras.layers.Dense(64, activation='relu'),\n",
        "    keras.layers.Dense(32, activation='relu'),\n",
        "    keras.layers.Dense(10, activation='softmax')\n",
        "])\n"
      ],
      "metadata": {
        "id": "KkojIdQuCYzK"
      },
      "execution_count": null,
      "outputs": []
    },
    {
      "cell_type": "code",
      "source": [
        "model.compile(optimizer='adam', loss='categorical_crossentropy', metrics=['accuracy'])\n"
      ],
      "metadata": {
        "id": "0Eq36sW8CeTP"
      },
      "execution_count": null,
      "outputs": []
    },
    {
      "cell_type": "code",
      "source": [
        "datagen.fit(x_train)\n",
        "model.fit(datagen.flow(x_train, y_train, batch_size=128),\n",
        "          epochs=10,\n",
        "          validation_data=(x_test, y_test))\n"
      ],
      "metadata": {
        "colab": {
          "base_uri": "https://localhost:8080/"
        },
        "id": "TQiSjQvhCfHP",
        "outputId": "2daa5643-eef2-4325-a33b-d2e93db7d316"
      },
      "execution_count": null,
      "outputs": [
        {
          "output_type": "stream",
          "name": "stdout",
          "text": [
            "Epoch 1/10\n",
            "469/469 [==============================] - 33s 44ms/step - loss: 0.4528 - accuracy: 0.8518 - val_loss: 0.1041 - val_accuracy: 0.9678\n",
            "Epoch 2/10\n",
            "469/469 [==============================] - 21s 44ms/step - loss: 0.1190 - accuracy: 0.9642 - val_loss: 0.0414 - val_accuracy: 0.9874\n",
            "Epoch 3/10\n",
            "469/469 [==============================] - 20s 42ms/step - loss: 0.0892 - accuracy: 0.9725 - val_loss: 0.0467 - val_accuracy: 0.9868\n",
            "Epoch 4/10\n",
            "469/469 [==============================] - 20s 43ms/step - loss: 0.0714 - accuracy: 0.9779 - val_loss: 0.0318 - val_accuracy: 0.9895\n",
            "Epoch 5/10\n",
            "469/469 [==============================] - 21s 44ms/step - loss: 0.0606 - accuracy: 0.9815 - val_loss: 0.0301 - val_accuracy: 0.9899\n",
            "Epoch 6/10\n",
            "469/469 [==============================] - 19s 41ms/step - loss: 0.0533 - accuracy: 0.9832 - val_loss: 0.0267 - val_accuracy: 0.9919\n",
            "Epoch 7/10\n",
            "469/469 [==============================] - 20s 43ms/step - loss: 0.0482 - accuracy: 0.9851 - val_loss: 0.0374 - val_accuracy: 0.9884\n",
            "Epoch 8/10\n",
            "469/469 [==============================] - 20s 43ms/step - loss: 0.0442 - accuracy: 0.9868 - val_loss: 0.0295 - val_accuracy: 0.9902\n",
            "Epoch 9/10\n",
            "469/469 [==============================] - 19s 41ms/step - loss: 0.0433 - accuracy: 0.9865 - val_loss: 0.0243 - val_accuracy: 0.9919\n",
            "Epoch 10/10\n",
            "469/469 [==============================] - 22s 46ms/step - loss: 0.0395 - accuracy: 0.9879 - val_loss: 0.0196 - val_accuracy: 0.9936\n"
          ]
        },
        {
          "output_type": "execute_result",
          "data": {
            "text/plain": [
              "<keras.callbacks.History at 0x7ff980038fd0>"
            ]
          },
          "metadata": {},
          "execution_count": 14
        }
      ]
    },
    {
      "cell_type": "code",
      "source": [
        "test_loss, test_acc = model.evaluate(x_test, y_test)\n",
        "print('Test accuracy:', test_acc)\n"
      ],
      "metadata": {
        "colab": {
          "base_uri": "https://localhost:8080/"
        },
        "id": "XYniP8o1CpqQ",
        "outputId": "bc667c2e-345b-4475-cc9f-b018255b09e8"
      },
      "execution_count": null,
      "outputs": [
        {
          "output_type": "stream",
          "name": "stdout",
          "text": [
            "313/313 [==============================] - 1s 3ms/step - loss: 0.0196 - accuracy: 0.9936\n",
            "Test accuracy: 0.9936000108718872\n"
          ]
        }
      ]
    }
  ]
}